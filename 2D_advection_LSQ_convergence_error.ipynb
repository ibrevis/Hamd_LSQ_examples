{
 "cells": [
  {
   "cell_type": "code",
   "execution_count": 1,
   "id": "85934d67",
   "metadata": {},
   "outputs": [],
   "source": [
    "import fenics as fn\n",
    "import numpy as np\n",
    "#\n",
    "from matplotlib import pyplot as plt\n",
    "from matplotlib import cm\n",
    "from matplotlib.ticker import LinearLocator"
   ]
  },
  {
   "cell_type": "markdown",
   "id": "4f5f57d1",
   "metadata": {},
   "source": [
    "PDE Problem:\n",
    "\n",
    "$$\n",
    "\\left\\{\n",
    "\\begin{array}{rlc}\n",
    "\\varepsilon u_x(x,y) + u(x,y) &= f(x,y) & \\text{ in }(0,1)\\times(0,1) \\\\\n",
    "u(0,y) &= 0 & \n",
    "\\end{array}\n",
    "\\right.\n",
    "$$"
   ]
  },
  {
   "cell_type": "markdown",
   "id": "3e459bbe",
   "metadata": {},
   "source": [
    "Variational formulation:\n",
    "$$\\int_{\\Omega} (\\varepsilon u_x + u) (\\varepsilon v_x + v) = \\int_{\\Omega} f (\\varepsilon v_x + v), \\quad\\forall v \\in H^{1}$$"
   ]
  },
  {
   "cell_type": "code",
   "execution_count": 2,
   "id": "eb8febfe",
   "metadata": {},
   "outputs": [],
   "source": [
    "#\n",
    "def biliniear_form_func(u,v,eps=0.001):\n",
    "    aux = (eps*u.dx(0) + u)*(eps*v.dx(0) + v)*(fn.dx)\n",
    "    return aux\n",
    "# \n",
    "def rhs_func(f,v,eps=0.001):\n",
    "    aux = f*(eps*v.dx(0) + v)*(fn.dx)\n",
    "    return aux"
   ]
  },
  {
   "cell_type": "markdown",
   "id": "ad6c38aa",
   "metadata": {},
   "source": [
    "**epsilon**"
   ]
  },
  {
   "cell_type": "code",
   "execution_count": 3,
   "id": "b30dc819",
   "metadata": {},
   "outputs": [],
   "source": [
    "eps = .5"
   ]
  },
  {
   "cell_type": "markdown",
   "id": "e1bf8fdf",
   "metadata": {},
   "source": [
    "**Mesh to compute the error**"
   ]
  },
  {
   "cell_type": "code",
   "execution_count": 4,
   "id": "35b01483",
   "metadata": {},
   "outputs": [],
   "source": [
    "mesh_fine = fn.UnitSquareMesh(128,128)\n",
    "U_fine = fn.FunctionSpace(mesh_fine,'CG',1)"
   ]
  },
  {
   "cell_type": "markdown",
   "id": "c3cf1f62",
   "metadata": {},
   "source": [
    "**Analytical solution**"
   ]
  },
  {
   "cell_type": "code",
   "execution_count": 5,
   "id": "2308c756",
   "metadata": {},
   "outputs": [],
   "source": [
    "u_exact = fn.Expression('x[1]< 0.5 ? 1. - exp(-x[0]/eps) : 0.',eps = eps, degree=2)\n",
    "u_exact_fn = fn.Function(U_fine)\n",
    "u_exact_fn.interpolate(u_exact)"
   ]
  },
  {
   "cell_type": "markdown",
   "id": "4f85ea69",
   "metadata": {},
   "source": [
    "**Rhs function**"
   ]
  },
  {
   "cell_type": "code",
   "execution_count": 6,
   "id": "e1c1ac18",
   "metadata": {},
   "outputs": [],
   "source": [
    "f = fn.Expression('x[1]< 0.5 ? 1.: 0.',degree=0)"
   ]
  },
  {
   "cell_type": "markdown",
   "id": "623c2809",
   "metadata": {},
   "source": [
    "**Convergence error**"
   ]
  },
  {
   "cell_type": "code",
   "execution_count": 10,
   "id": "12246d9c",
   "metadata": {},
   "outputs": [
    {
     "name": "stdout",
     "output_type": "stream",
     "text": [
      "0.1676050162111665\n",
      "0.1185443342477913\n",
      "0.08339480569674027\n",
      "0.05847885038533499\n",
      "0.04073719954897585\n",
      "0.027930380478312235\n"
     ]
    }
   ],
   "source": [
    "N_list = [2,4,8,16,32,64]\n",
    "error_list = []\n",
    "n_elem_list = []\n",
    "for N in N_list:\n",
    "    mesh = fn.UnitSquareMesh(N,N)\n",
    "    #fn.plot(mesh)\n",
    "    #plt.show()\n",
    "    # FE space\n",
    "    Uh = fn.FunctionSpace(mesh,'CG',1)\n",
    "    n_elem = Uh.dim()\n",
    "    # Boundary condition\n",
    "    g = fn.Constant(0.)\n",
    "    bc_gamma = fn.DirichletBC(Uh,g,'x[0]<DOLFIN_EPS')\n",
    "    # Trial and test functions\n",
    "    uh = fn.TrialFunction(Uh)\n",
    "    vh = fn.TestFunction(Uh)\n",
    "    # bilinear form and rhs\n",
    "    b = biliniear_form_func(uh,vh,eps)\n",
    "    l = rhs_func(f,vh,eps)\n",
    "    # Linear system\n",
    "    B, L = fn.assemble_system(b,l,bc_gamma)\n",
    "    # Exporting matrix and rhs vector\n",
    "    B_np = B.array()\n",
    "    L_np = L[:]\n",
    "    # solving linear system\n",
    "    vec = np.linalg.solve(B_np,L_np)\n",
    "    uh_sol = fn.Function(Uh)\n",
    "    uh_sol.vector()[:] = vec\n",
    "    # Create a fine-mesh FE function\n",
    "    uh_fine = fn.Function(U_fine)\n",
    "    # interpolate the LSQ solution into the fine-mesh FE function\n",
    "    uh_fine.interpolate(uh_sol)\n",
    "    # compute the square of L2-norm\n",
    "    error2 = fn.assemble((uh_fine - u_exact)**2*(fn.dx))\n",
    "    # we take the square root of the above\n",
    "    error = np.sqrt(error2)\n",
    "    # save it in the lists\n",
    "    error_list.append(error)\n",
    "    n_elem_list.append(n_elem)\n",
    "    print(error)"
   ]
  },
  {
   "cell_type": "code",
   "execution_count": 39,
   "id": "c67dd53d",
   "metadata": {},
   "outputs": [
    {
     "data": {
      "image/png": "[encoded data removed]",
      "text/plain": [
       "<Figure size 576x432 with 1 Axes>"
      ]
     },
     "metadata": {
      "needs_background": "light"
     },
     "output_type": "display_data"
    }
   ],
   "source": [
    "fig, ax = plt.subplots(figsize=(8,6))\n",
    "#\n",
    "plt.plot(n_elem_list,error_list,\n",
    "         color='tab:blue',\n",
    "         linestyle='-',\n",
    "         marker='o',\n",
    "         linewidth=2.0\n",
    "        )\n",
    "#\n",
    "plt.ylabel(r'$L^2$-norm error',fontsize=16) # \"r\" means raw sequence\n",
    "plt.yticks(fontsize=16)\n",
    "plt.xlabel('number of elements',fontsize=16)\n",
    "plt.xticks(fontsize=16)\n",
    "#\n",
    "plt.title('linear-scale plot')\n",
    "#\n",
    "plt.show()"
   ]
  },
  {
   "cell_type": "code",
   "execution_count": 38,
   "id": "7e050dc5",
   "metadata": {},
   "outputs": [
    {
     "data": {
      "image/png": "[encoded data removed]",
      "text/plain": [
       "<Figure size 576x432 with 1 Axes>"
      ]
     },
     "metadata": {
      "needs_background": "light"
     },
     "output_type": "display_data"
    }
   ],
   "source": [
    "fig, ax = plt.subplots(figsize=(8,6))\n",
    "#\n",
    "plt.loglog(n_elem_list,error_list)\n",
    "plt.plot(n_elem_list,error_list,\n",
    "         color='tab:blue',\n",
    "         linestyle='-',\n",
    "         marker='o',\n",
    "         linewidth=2.0\n",
    "        )\n",
    "#\n",
    "plt.ylabel(r'$L^2$-norm error',fontsize=16) # \"r\" means raw sequence\n",
    "plt.yticks(fontsize=16)\n",
    "plt.xlabel('number of elements',fontsize=16)\n",
    "plt.xticks(fontsize=16)\n",
    "#\n",
    "plt.title('log-log scale plot')\n",
    "#\n",
    "plt.show()"
   ]
  },
  {
   "cell_type": "markdown",
   "id": "0ab787c3",
   "metadata": {},
   "source": [
    "Calling FFC just-in-time (JIT) compiler, this may take some time.\n",
    "0.03756636627747744"
   ]
  }
 ],
 "metadata": {
  "kernelspec": {
   "display_name": "Python 3 (ipykernel)",
   "language": "python",
   "name": "python3"
  },
  "language_info": {
   "codemirror_mode": {
    "name": "ipython",
    "version": 3
   },
   "file_extension": ".py",
   "mimetype": "text/x-python",
   "name": "python",
   "nbconvert_exporter": "python",
   "pygments_lexer": "ipython3",
   "version": "3.8.15"
  }
 },
 "nbformat": 4,
 "nbformat_minor": 5
}
