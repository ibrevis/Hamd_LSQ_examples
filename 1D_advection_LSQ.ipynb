{
 "cells": [
  {
   "cell_type": "code",
   "execution_count": 1,
   "id": "85934d67",
   "metadata": {},
   "outputs": [],
   "source": [
    "import fenics as fn\n",
    "import numpy as np\n",
    "#\n",
    "from matplotlib import pyplot as plt\n",
    "from matplotlib import cm\n",
    "from matplotlib.ticker import LinearLocator"
   ]
  },
  {
   "cell_type": "markdown",
   "id": "c954f025",
   "metadata": {},
   "source": [
    "PDE problem:\n",
    "$$\n",
    "\\left\\{\n",
    "\\begin{array}{rlc}\n",
    "\\varepsilon u_x(x) + u(x) &= f(x) & \\text{ in }(0,1) \\\\\n",
    "u(0) &= 0 & \n",
    "\\end{array}\n",
    "\\right.\n",
    "$$"
   ]
  },
  {
   "cell_type": "markdown",
   "id": "a278ea35",
   "metadata": {},
   "source": [
    "**Mesh**"
   ]
  },
  {
   "cell_type": "code",
   "execution_count": 2,
   "id": "12246d9c",
   "metadata": {},
   "outputs": [
    {
     "data": {
      "image/png": "[encoded data removed]",
      "text/plain": [
       "<Figure size 640x480 with 1 Axes>"
      ]
     },
     "metadata": {},
     "output_type": "display_data"
    }
   ],
   "source": [
    "N = 32\n",
    "mesh = fn.UnitIntervalMesh(N)\n",
    "fn.plot(mesh)\n",
    "plt.show()"
   ]
  },
  {
   "cell_type": "markdown",
   "id": "c6c41b6c",
   "metadata": {},
   "source": [
    "**FE space**"
   ]
  },
  {
   "cell_type": "code",
   "execution_count": 3,
   "id": "7e050dc5",
   "metadata": {},
   "outputs": [],
   "source": [
    "Uh = fn.FunctionSpace(mesh,'CG',1)"
   ]
  },
  {
   "cell_type": "markdown",
   "id": "c285fbec",
   "metadata": {},
   "source": [
    "**Trial and test functions**"
   ]
  },
  {
   "cell_type": "code",
   "execution_count": 4,
   "id": "da529792",
   "metadata": {},
   "outputs": [],
   "source": [
    "uh = fn.TrialFunction(Uh)\n",
    "vh = fn.TestFunction(Uh)"
   ]
  },
  {
   "cell_type": "markdown",
   "id": "656ce4a6",
   "metadata": {},
   "source": [
    "Variational formulation:\n",
    "$$\\int_{\\Omega} (\\varepsilon u_x + u)(\\varepsilon v_x + v) = \\int_{\\Omega} f(\\varepsilon v_x + v), \\quad\\forall v \\in H^{1}$$"
   ]
  },
  {
   "cell_type": "code",
   "execution_count": 5,
   "id": "6e5de5f9",
   "metadata": {},
   "outputs": [],
   "source": [
    "#\n",
    "def biliniear_form_func(u,v,eps=0.001):\n",
    "    aux = (eps*u.dx(0) + u)*(eps*v.dx(0) + v)*(fn.dx)\n",
    "    return aux\n",
    "# \n",
    "def rhs_func(f,v,eps=0.001):\n",
    "    aux = f*(eps*v.dx(0) + v)*(fn.dx)\n",
    "    return aux"
   ]
  },
  {
   "cell_type": "markdown",
   "id": "9411f7ad",
   "metadata": {},
   "source": [
    "**Rhs function**"
   ]
  },
  {
   "cell_type": "code",
   "execution_count": 6,
   "id": "50a46f61",
   "metadata": {},
   "outputs": [],
   "source": [
    "f = fn.Expression('x[0]< 0.5 ? 0.: 1.',degree=0)"
   ]
  },
  {
   "cell_type": "markdown",
   "id": "bb0ee099",
   "metadata": {},
   "source": [
    "**Boundary Condition**"
   ]
  },
  {
   "cell_type": "code",
   "execution_count": 7,
   "id": "c2bc2ced",
   "metadata": {},
   "outputs": [],
   "source": [
    "# Boundary condition\n",
    "g = fn.Constant(0.)\n",
    "bc_gamma = fn.DirichletBC(Uh,g,'x[0]<DOLFIN_EPS')"
   ]
  },
  {
   "cell_type": "markdown",
   "id": "3f5907a3",
   "metadata": {},
   "source": [
    "**Assembling**"
   ]
  },
  {
   "cell_type": "code",
   "execution_count": 8,
   "id": "428c27c3",
   "metadata": {},
   "outputs": [],
   "source": [
    "eps = 0.001\n",
    "b = biliniear_form_func(uh,vh,eps)\n",
    "l = rhs_func(f,vh,eps)\n",
    "# Linear system\n",
    "B, L = fn.assemble_system(b,l,bc_gamma)"
   ]
  },
  {
   "cell_type": "markdown",
   "id": "1a98740a",
   "metadata": {},
   "source": [
    "**Linear system as numpy array**"
   ]
  },
  {
   "cell_type": "code",
   "execution_count": 9,
   "id": "db5f7f4c",
   "metadata": {},
   "outputs": [],
   "source": [
    "B_np = B.array()\n",
    "L_np = L[:]"
   ]
  },
  {
   "cell_type": "markdown",
   "id": "4caa0b63",
   "metadata": {},
   "source": [
    "**Solving the linear system**"
   ]
  },
  {
   "cell_type": "code",
   "execution_count": 10,
   "id": "f4dd4891",
   "metadata": {},
   "outputs": [],
   "source": [
    "vec = np.linalg.solve(B_np,L_np)\n",
    "uh_sol = fn.Function(Uh)\n",
    "uh_sol.vector()[:] = vec"
   ]
  },
  {
   "cell_type": "markdown",
   "id": "7e73bae3",
   "metadata": {},
   "source": [
    "**Results**"
   ]
  },
  {
   "cell_type": "code",
   "execution_count": 11,
   "id": "4d3999af",
   "metadata": {},
   "outputs": [
    {
     "data": {
      "image/png": "[encoded data removed]",
      "text/plain": [
       "<Figure size 640x480 with 1 Axes>"
      ]
     },
     "metadata": {},
     "output_type": "display_data"
    }
   ],
   "source": [
    "fn.plot(uh_sol)\n",
    "#fn.plot(mesh)\n",
    "plt.show()"
   ]
  },
  {
   "cell_type": "markdown",
   "id": "cb81f660",
   "metadata": {},
   "source": [
    "##  $L_1$ regularization term"
   ]
  },
  {
   "cell_type": "code",
   "execution_count": 12,
   "id": "b22f4350",
   "metadata": {},
   "outputs": [],
   "source": [
    "Dh = fn.FunctionSpace(mesh,'DG',0)\n",
    "dh = fn.TestFunction(Dh)"
   ]
  },
  {
   "cell_type": "markdown",
   "id": "f904abb6",
   "metadata": {},
   "source": [
    "**D matrix**"
   ]
  },
  {
   "cell_type": "code",
   "execution_count": 13,
   "id": "80eaf524",
   "metadata": {},
   "outputs": [],
   "source": [
    "D = fn.assemble(uh.dx(0)*dh*(fn.dx))"
   ]
  },
  {
   "cell_type": "code",
   "execution_count": 14,
   "id": "41bf7150",
   "metadata": {},
   "outputs": [
    {
     "name": "stdout",
     "output_type": "stream",
     "text": [
      "[[ 0.  0.  0. ...  0.  1. -1.]\n",
      " [ 0.  0.  0. ...  1. -1.  0.]\n",
      " [ 0.  0.  0. ... -1.  0.  0.]\n",
      " ...\n",
      " [ 0.  0.  1. ...  0.  0.  0.]\n",
      " [ 0.  1. -1. ...  0.  0.  0.]\n",
      " [ 1. -1.  0. ...  0.  0.  0.]]\n"
     ]
    }
   ],
   "source": [
    "print(D.array())"
   ]
  },
  {
   "cell_type": "markdown",
   "id": "b0c95365",
   "metadata": {},
   "source": [
    "**Exporting matrices**"
   ]
  },
  {
   "cell_type": "code",
   "execution_count": 15,
   "id": "d8abc79a",
   "metadata": {},
   "outputs": [],
   "source": [
    "np.savez('1D_LSQ_matrices',B=B_np,L=L_np,D=D.array())"
   ]
  }
 ],
 "metadata": {
  "kernelspec": {
   "display_name": "fn_tr_linux_new_env",
   "language": "python",
   "name": "fn_tr_linux_new_env"
  },
  "language_info": {
   "codemirror_mode": {
    "name": "ipython",
    "version": 3
   },
   "file_extension": ".py",
   "mimetype": "text/x-python",
   "name": "python",
   "nbconvert_exporter": "python",
   "pygments_lexer": "ipython3",
   "version": "3.8.16"
  }
 },
 "nbformat": 4,
 "nbformat_minor": 5
}
